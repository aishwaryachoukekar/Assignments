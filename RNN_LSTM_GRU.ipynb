{
  "nbformat": 4,
  "nbformat_minor": 0,
  "metadata": {
    "colab": {
      "name": "Homework 6.ipynb",
      "provenance": [],
      "collapsed_sections": []
    },
    "kernelspec": {
      "name": "python3",
      "display_name": "Python 3"
    },
    "language_info": {
      "name": "python"
    }
  },
  "cells": [
    {
      "cell_type": "markdown",
      "metadata": {
        "id": "CwKJ4F4TpKnN"
      },
      "source": [
        "# Homework RNNs\n",
        "1. Download and explore data\n",
        "2. Preproceess data if needed\n",
        "3. Create a dataset with group of inputs of size X = (10-50) - Randomly sample points, and take the next X points\n",
        "3.a. Either randomly sample different points to get xs and ys\n",
        "3.b Or Take evert possible datapoint from 0 to size of dataset - x. and shuffle the dataset\n",
        "4. Make it into a tensorflow dataset, Split the data into train and test\n",
        "5. Time distributed predictions with size 5-10\n",
        "6. Use 3 different model architectures (RNN type / wavenet)\n",
        "7. Prints the different graphs"
      ]
    },
    {
      "cell_type": "code",
      "source": [
        "import tensorflow as tf\n",
        "from tensorflow import keras\n",
        "from keras.layers import Input\n",
        "from keras.layers import Dense\n",
        "import pandas as pd\n",
        "import numpy as np\n",
        "import matplotlib.pyplot as plt\n",
        "from sklearn.preprocessing import MinMaxScaler\n",
        "from sklearn.model_selection import train_test_split"
      ],
      "metadata": {
        "id": "Kw7ZUvN5yHMG"
      },
      "execution_count": null,
      "outputs": []
    },
    {
      "cell_type": "code",
      "metadata": {
        "colab": {
          "base_uri": "https://localhost:8080/"
        },
        "id": "gavWju4XpHBe",
        "outputId": "14bf372b-86af-4128-eafa-519a73865365"
      },
      "source": [
        "#!wget https://storage.googleapis.com/nicksdemobucket/sunspots.csv\n",
        "\n",
        "# OR\n",
        "\n",
        "#Using temperature dataset for this assignment\n",
        "!wget https://storage.googleapis.com/nicksdemobucket/temperatures.csv\n",
        "\n",
        "# OR MNIST"
      ],
      "execution_count": null,
      "outputs": [
        {
          "output_type": "stream",
          "name": "stdout",
          "text": [
            "--2022-04-17 15:03:53--  https://storage.googleapis.com/nicksdemobucket/temperatures.csv\n",
            "Resolving storage.googleapis.com (storage.googleapis.com)... 64.233.189.128, 108.177.97.128, 108.177.125.128, ...\n",
            "Connecting to storage.googleapis.com (storage.googleapis.com)|64.233.189.128|:443... connected.\n",
            "HTTP request sent, awaiting response... 200 OK\n",
            "Length: 67921 (66K) [text/csv]\n",
            "Saving to: ‘temperatures.csv.2’\n",
            "\n",
            "\rtemperatures.csv.2    0%[                    ]       0  --.-KB/s               \rtemperatures.csv.2  100%[===================>]  66.33K  --.-KB/s    in 0.001s  \n",
            "\n",
            "2022-04-17 15:03:53 (57.8 MB/s) - ‘temperatures.csv.2’ saved [67921/67921]\n",
            "\n"
          ]
        }
      ]
    },
    {
      "cell_type": "code",
      "metadata": {
        "colab": {
          "base_uri": "https://localhost:8080/",
          "height": 282
        },
        "id": "3IG7PNOwpOBC",
        "outputId": "5caec8a1-412e-41f9-fa92-9af14c8c9529"
      },
      "source": [
        "df = pd.read_csv('temperatures.csv')\n",
        "\n",
        "df.plot()"
      ],
      "execution_count": null,
      "outputs": [
        {
          "output_type": "execute_result",
          "data": {
            "text/plain": [
              "<matplotlib.axes._subplots.AxesSubplot at 0x7fe1069b4d50>"
            ]
          },
          "metadata": {},
          "execution_count": 3
        },
        {
          "output_type": "display_data",
          "data": {
            "text/plain": [
              "<Figure size 432x288 with 1 Axes>"
            ],
            "image/png": "[encoded data removed]"
          },
          "metadata": {
            "needs_background": "light"
          }
        }
      ]
    },
    {
      "cell_type": "code",
      "metadata": {
        "id": "rlJHCvNGpQK2",
        "colab": {
          "base_uri": "https://localhost:8080/",
          "height": 206
        },
        "outputId": "cdaf2ce8-28cd-4491-8758-3da70c4a621d"
      },
      "source": [
        "df.head()"
      ],
      "execution_count": null,
      "outputs": [
        {
          "output_type": "execute_result",
          "data": {
            "text/plain": [
              "         Date  Temp\n",
              "0  1981-01-01  20.7\n",
              "1  1981-01-02  17.9\n",
              "2  1981-01-03  18.8\n",
              "3  1981-01-04  14.6\n",
              "4  1981-01-05  15.8"
            ],
            "text/html": [
              "\n",
              "  <div id=\"df-115ec92c-6995-403e-a8d8-3d30f51db3b1\">\n",
              "    <div class=\"colab-df-container\">\n",
              "      <div>\n",
              "<style scoped>\n",
              "    .dataframe tbody tr th:only-of-type {\n",
              "        vertical-align: middle;\n",
              "    }\n",
              "\n",
              "    .dataframe tbody tr th {\n",
              "        vertical-align: top;\n",
              "    }\n",
              "\n",
              "    .dataframe thead th {\n",
              "        text-align: right;\n",
              "    }\n",
              "</style>\n",
              "<table border=\"1\" class=\"dataframe\">\n",
              "  <thead>\n",
              "    <tr style=\"text-align: right;\">\n",
              "      <th></th>\n",
              "      <th>Date</th>\n",
              "      <th>Temp</th>\n",
              "    </tr>\n",
              "  </thead>\n",
              "  <tbody>\n",
              "    <tr>\n",
              "      <th>0</th>\n",
              "      <td>1981-01-01</td>\n",
              "      <td>20.7</td>\n",
              "    </tr>\n",
              "    <tr>\n",
              "      <th>1</th>\n",
              "      <td>1981-01-02</td>\n",
              "      <td>17.9</td>\n",
              "    </tr>\n",
              "    <tr>\n",
              "      <th>2</th>\n",
              "      <td>1981-01-03</td>\n",
              "      <td>18.8</td>\n",
              "    </tr>\n",
              "    <tr>\n",
              "      <th>3</th>\n",
              "      <td>1981-01-04</td>\n",
              "      <td>14.6</td>\n",
              "    </tr>\n",
              "    <tr>\n",
              "      <th>4</th>\n",
              "      <td>1981-01-05</td>\n",
              "      <td>15.8</td>\n",
              "    </tr>\n",
              "  </tbody>\n",
              "</table>\n",
              "</div>\n",
              "      <button class=\"colab-df-convert\" onclick=\"convertToInteractive('df-115ec92c-6995-403e-a8d8-3d30f51db3b1')\"\n",
              "              title=\"Convert this dataframe to an interactive table.\"\n",
              "              style=\"display:none;\">\n",
              "        \n",
              "  <svg xmlns=\"http://www.w3.org/2000/svg\" height=\"24px\"viewBox=\"0 0 24 24\"\n",
              "       width=\"24px\">\n",
              "    <path d=\"M0 0h24v24H0V0z\" fill=\"none\"/>\n",
              "    <path d=\"M18.56 5.44l.94 2.06.94-2.06 2.06-.94-2.06-.94-.94-2.06-.94 2.06-2.06.94zm-11 1L8.5 8.5l.94-2.06 2.06-.94-2.06-.94L8.5 2.5l-.94 2.06-2.06.94zm10 10l.94 2.06.94-2.06 2.06-.94-2.06-.94-.94-2.06-.94 2.06-2.06.94z\"/><path d=\"M17.41 7.96l-1.37-1.37c-.4-.4-.92-.59-1.43-.59-.52 0-1.04.2-1.43.59L10.3 9.45l-7.72 7.72c-.78.78-.78 2.05 0 2.83L4 21.41c.39.39.9.59 1.41.59.51 0 1.02-.2 1.41-.59l7.78-7.78 2.81-2.81c.8-.78.8-2.07 0-2.86zM5.41 20L4 18.59l7.72-7.72 1.47 1.35L5.41 20z\"/>\n",
              "  </svg>\n",
              "      </button>\n",
              "      \n",
              "  <style>\n",
              "    .colab-df-container {\n",
              "      display:flex;\n",
              "      flex-wrap:wrap;\n",
              "      gap: 12px;\n",
              "    }\n",
              "\n",
              "    .colab-df-convert {\n",
              "      background-color: #E8F0FE;\n",
              "      border: none;\n",
              "      border-radius: 50%;\n",
              "      cursor: pointer;\n",
              "      display: none;\n",
              "      fill: #1967D2;\n",
              "      height: 32px;\n",
              "      padding: 0 0 0 0;\n",
              "      width: 32px;\n",
              "    }\n",
              "\n",
              "    .colab-df-convert:hover {\n",
              "      background-color: #E2EBFA;\n",
              "      box-shadow: 0px 1px 2px rgba(60, 64, 67, 0.3), 0px 1px 3px 1px rgba(60, 64, 67, 0.15);\n",
              "      fill: #174EA6;\n",
              "    }\n",
              "\n",
              "    [theme=dark] .colab-df-convert {\n",
              "      background-color: #3B4455;\n",
              "      fill: #D2E3FC;\n",
              "    }\n",
              "\n",
              "    [theme=dark] .colab-df-convert:hover {\n",
              "      background-color: #434B5C;\n",
              "      box-shadow: 0px 1px 3px 1px rgba(0, 0, 0, 0.15);\n",
              "      filter: drop-shadow(0px 1px 2px rgba(0, 0, 0, 0.3));\n",
              "      fill: #FFFFFF;\n",
              "    }\n",
              "  </style>\n",
              "\n",
              "      <script>\n",
              "        const buttonEl =\n",
              "          document.querySelector('#df-115ec92c-6995-403e-a8d8-3d30f51db3b1 button.colab-df-convert');\n",
              "        buttonEl.style.display =\n",
              "          google.colab.kernel.accessAllowed ? 'block' : 'none';\n",
              "\n",
              "        async function convertToInteractive(key) {\n",
              "          const element = document.querySelector('#df-115ec92c-6995-403e-a8d8-3d30f51db3b1');\n",
              "          const dataTable =\n",
              "            await google.colab.kernel.invokeFunction('convertToInteractive',\n",
              "                                                     [key], {});\n",
              "          if (!dataTable) return;\n",
              "\n",
              "          const docLinkHtml = 'Like what you see? Visit the ' +\n",
              "            '<a target=\"_blank\" href=https://colab.research.google.com/notebooks/data_table.ipynb>data table notebook</a>'\n",
              "            + ' to learn more about interactive tables.';\n",
              "          element.innerHTML = '';\n",
              "          dataTable['output_type'] = 'display_data';\n",
              "          await google.colab.output.renderOutput(dataTable, element);\n",
              "          const docLink = document.createElement('div');\n",
              "          docLink.innerHTML = docLinkHtml;\n",
              "          element.appendChild(docLink);\n",
              "        }\n",
              "      </script>\n",
              "    </div>\n",
              "  </div>\n",
              "  "
            ]
          },
          "metadata": {},
          "execution_count": 4
        }
      ]
    },
    {
      "cell_type": "code",
      "source": [
        "#No null values\n",
        "df.count()"
      ],
      "metadata": {
        "colab": {
          "base_uri": "https://localhost:8080/"
        },
        "id": "nnrAWWI-1wnR",
        "outputId": "07f7f505-8317-4c9c-9f33-0d6c68e2e42c"
      },
      "execution_count": null,
      "outputs": [
        {
          "output_type": "execute_result",
          "data": {
            "text/plain": [
              "Date    3650\n",
              "Temp    3650\n",
              "dtype: int64"
            ]
          },
          "metadata": {},
          "execution_count": 5
        }
      ]
    },
    {
      "cell_type": "code",
      "source": [
        "df.shape"
      ],
      "metadata": {
        "colab": {
          "base_uri": "https://localhost:8080/"
        },
        "id": "S5PkXSc72AXC",
        "outputId": "be29a1db-f7fe-49e1-829a-80c923d5e04a"
      },
      "execution_count": null,
      "outputs": [
        {
          "output_type": "execute_result",
          "data": {
            "text/plain": [
              "(3650, 2)"
            ]
          },
          "metadata": {},
          "execution_count": 6
        }
      ]
    },
    {
      "cell_type": "code",
      "source": [
        "sc = MinMaxScaler()\n",
        "\n",
        "df['Temp'] = sc.fit_transform(np.array(df['Temp']).reshape(-1, 1))"
      ],
      "metadata": {
        "id": "49LK5fVa4YQu"
      },
      "execution_count": null,
      "outputs": []
    },
    {
      "cell_type": "markdown",
      "source": [
        "### Defining functions for plotting"
      ],
      "metadata": {
        "id": "nGfnwu0TH88L"
      }
    },
    {
      "cell_type": "code",
      "source": [
        "def plot_series(x, y, color='r'):\n",
        "  plt.plot(x.reshape(-1), 'o-')\n",
        "  plt.scatter(26, y, c=color)\n",
        "  plt.grid(True)"
      ],
      "metadata": {
        "id": "ApkgVQ5RIAE6"
      },
      "execution_count": null,
      "outputs": []
    },
    {
      "cell_type": "code",
      "source": [
        "def plot_multiple_forecasts(X, Y, Y_pred):\n",
        "    n_steps = X.shape[2]\n",
        "    ahead = Y.shape[2]\n",
        "    plot_series(X[0, :, 0], 25)\n",
        "    plt.plot(np.arange(n_steps, n_steps + ahead), Y[0, 0, :], \"ro-\", label=\"Actual\")\n",
        "    plt.plot(np.arange(n_steps, n_steps + ahead), Y_pred[0, 0, :], \"bx-\", label=\"Forecast\", markersize=10)\n",
        "    plt.axis([0, n_steps + ahead, -1, 1])\n",
        "    plt.legend(fontsize=12)\n",
        "    plt.gca().set_ylim(0.4, 0.75)\n",
        "    plt.gca().set_xlim(25, 30)"
      ],
      "metadata": {
        "id": "lPS8Br3sICYI"
      },
      "execution_count": null,
      "outputs": []
    },
    {
      "cell_type": "markdown",
      "source": [
        "### Adding the columns to create input and output sequence"
      ],
      "metadata": {
        "id": "pI8JsbJfIHY5"
      }
    },
    {
      "cell_type": "code",
      "source": [
        "for s in range(1, 31):\n",
        "    df['shift_{}'.format(s)] = df['Temp'].shift(s)"
      ],
      "metadata": {
        "id": "iQkBKWof2W-F"
      },
      "execution_count": null,
      "outputs": []
    },
    {
      "cell_type": "markdown",
      "source": [
        "### Shuffling Dataset"
      ],
      "metadata": {
        "id": "Y8BvRs96xZZd"
      }
    },
    {
      "cell_type": "code",
      "source": [
        "df.sample(frac=1)"
      ],
      "metadata": {
        "colab": {
          "base_uri": "https://localhost:8080/",
          "height": 661
        },
        "id": "goYQ2OQXuvA9",
        "outputId": "137aa4fc-c6ee-4f8c-da62-236f809f91b1"
      },
      "execution_count": null,
      "outputs": [
        {
          "output_type": "execute_result",
          "data": {
            "text/plain": [
              "            Date      Temp   shift_1   shift_2   shift_3   shift_4   shift_5  \\\n",
              "2416  1987-08-15  0.448669  0.346008  0.266160  0.285171  0.266160  0.186312   \n",
              "2944  1989-01-25  0.577947  0.475285  0.479087  0.570342  0.551331  0.608365   \n",
              "1193  1984-04-08  0.342205  0.475285  0.471483  0.368821  0.311787  0.349810   \n",
              "871   1983-05-22  0.235741  0.285171  0.315589  0.281369  0.186312  0.174905   \n",
              "2645  1988-03-31  0.612167  0.692015  0.665399  0.623574  0.589354  0.634981   \n",
              "...          ...       ...       ...       ...       ...       ...       ...   \n",
              "1178  1984-03-24  0.676806  0.631179  0.524715  0.460076  0.532319  0.574144   \n",
              "1805  1985-12-12  0.536122  0.600760  0.558935  0.631179  0.623574  0.692015   \n",
              "633   1982-09-26  0.292776  0.437262  0.323194  0.239544  0.201521  0.152091   \n",
              "2928  1989-01-09  0.619772  0.596958  0.463878  0.361217  0.437262  0.638783   \n",
              "259   1981-09-17  0.406844  0.536122  0.414449  0.277567  0.437262  0.384030   \n",
              "\n",
              "       shift_6   shift_7   shift_8  ...  shift_21  shift_22  shift_23  \\\n",
              "2416  0.330798  0.338403  0.201521  ...  0.110266  0.057034  0.254753   \n",
              "2944  0.498099  0.528517  0.631179  ...  0.638783  0.703422  0.661597   \n",
              "1193  0.391635  0.368821  0.422053  ...  0.524715  0.539924  0.414449   \n",
              "871   0.254753  0.444867  0.551331  ...  0.475285  0.456274  0.384030   \n",
              "2645  0.615970  0.528517  0.547529  ...  0.551331  0.615970  0.634981   \n",
              "...        ...       ...       ...  ...       ...       ...       ...   \n",
              "1178  0.524715  0.539924  0.414449  ...  0.399240  0.334601  0.479087   \n",
              "1805  0.555133  0.612167  0.623574  ...  0.399240  0.501901  0.429658   \n",
              "633   0.159696  0.216730  0.338403  ...  0.171103  0.190114  0.399240   \n",
              "2928  0.703422  0.661597  0.543726  ...  0.665399  0.631179  0.908745   \n",
              "259   0.467681  0.296578  0.444867  ...  0.228137  0.266160  0.174905   \n",
              "\n",
              "      shift_24  shift_25  shift_26  shift_27  shift_28  shift_29  shift_30  \n",
              "2416  0.243346  0.266160  0.239544  0.357414  0.342205  0.269962  0.205323  \n",
              "2944  0.543726  0.536122  0.562738  0.490494  0.490494  0.361217  0.600760  \n",
              "1193  0.539924  0.460076  0.422053  0.593156  0.433460  0.524715  0.399240  \n",
              "871   0.330798  0.494297  0.479087  0.399240  0.536122  0.627376  0.551331  \n",
              "2645  0.638783  0.539924  0.482890  0.562738  0.566540  0.593156  0.471483  \n",
              "...        ...       ...       ...       ...       ...       ...       ...  \n",
              "1178  0.513308  0.425856  0.574144  0.444867  0.513308  0.536122  0.627376  \n",
              "1805  0.463878  0.456274  0.365019  0.380228  0.798479  0.589354  0.532319  \n",
              "633   0.380228  0.152091  0.288973  0.482890  0.539924  0.266160  0.174905  \n",
              "2928  0.787072  0.749049  0.596958  0.547529  0.418251  0.543726  0.768061  \n",
              "259   0.250951  0.148289  0.300380  0.281369  0.475285  0.368821  0.288973  \n",
              "\n",
              "[3650 rows x 32 columns]"
            ],
            "text/html": [
              "\n",
              "  <div id=\"df-f9fb9850-7867-4f51-8ff4-f53f02efeda2\">\n",
              "    <div class=\"colab-df-container\">\n",
              "      <div>\n",
              "<style scoped>\n",
              "    .dataframe tbody tr th:only-of-type {\n",
              "        vertical-align: middle;\n",
              "    }\n",
              "\n",
              "    .dataframe tbody tr th {\n",
              "        vertical-align: top;\n",
              "    }\n",
              "\n",
              "    .dataframe thead th {\n",
              "        text-align: right;\n",
              "    }\n",
              "</style>\n",
              "<table border=\"1\" class=\"dataframe\">\n",
              "  <thead>\n",
              "    <tr style=\"text-align: right;\">\n",
              "      <th></th>\n",
              "      <th>Date</th>\n",
              "      <th>Temp</th>\n",
              "      <th>shift_1</th>\n",
              "      <th>shift_2</th>\n",
              "      <th>shift_3</th>\n",
              "      <th>shift_4</th>\n",
              "      <th>shift_5</th>\n",
              "      <th>shift_6</th>\n",
              "      <th>shift_7</th>\n",
              "      <th>shift_8</th>\n",
              "      <th>...</th>\n",
              "      <th>shift_21</th>\n",
              "      <th>shift_22</th>\n",
              "      <th>shift_23</th>\n",
              "      <th>shift_24</th>\n",
              "      <th>shift_25</th>\n",
              "      <th>shift_26</th>\n",
              "      <th>shift_27</th>\n",
              "      <th>shift_28</th>\n",
              "      <th>shift_29</th>\n",
              "      <th>shift_30</th>\n",
              "    </tr>\n",
              "  </thead>\n",
              "  <tbody>\n",
              "    <tr>\n",
              "      <th>2416</th>\n",
              "      <td>1987-08-15</td>\n",
              "      <td>0.448669</td>\n",
              "      <td>0.346008</td>\n",
              "      <td>0.266160</td>\n",
              "      <td>0.285171</td>\n",
              "      <td>0.266160</td>\n",
              "      <td>0.186312</td>\n",
              "      <td>0.330798</td>\n",
              "      <td>0.338403</td>\n",
              "      <td>0.201521</td>\n",
              "      <td>...</td>\n",
              "      <td>0.110266</td>\n",
              "      <td>0.057034</td>\n",
              "      <td>0.254753</td>\n",
              "      <td>0.243346</td>\n",
              "      <td>0.266160</td>\n",
              "      <td>0.239544</td>\n",
              "      <td>0.357414</td>\n",
              "      <td>0.342205</td>\n",
              "      <td>0.269962</td>\n",
              "      <td>0.205323</td>\n",
              "    </tr>\n",
              "    <tr>\n",
              "      <th>2944</th>\n",
              "      <td>1989-01-25</td>\n",
              "      <td>0.577947</td>\n",
              "      <td>0.475285</td>\n",
              "      <td>0.479087</td>\n",
              "      <td>0.570342</td>\n",
              "      <td>0.551331</td>\n",
              "      <td>0.608365</td>\n",
              "      <td>0.498099</td>\n",
              "      <td>0.528517</td>\n",
              "      <td>0.631179</td>\n",
              "      <td>...</td>\n",
              "      <td>0.638783</td>\n",
              "      <td>0.703422</td>\n",
              "      <td>0.661597</td>\n",
              "      <td>0.543726</td>\n",
              "      <td>0.536122</td>\n",
              "      <td>0.562738</td>\n",
              "      <td>0.490494</td>\n",
              "      <td>0.490494</td>\n",
              "      <td>0.361217</td>\n",
              "      <td>0.600760</td>\n",
              "    </tr>\n",
              "    <tr>\n",
              "      <th>1193</th>\n",
              "      <td>1984-04-08</td>\n",
              "      <td>0.342205</td>\n",
              "      <td>0.475285</td>\n",
              "      <td>0.471483</td>\n",
              "      <td>0.368821</td>\n",
              "      <td>0.311787</td>\n",
              "      <td>0.349810</td>\n",
              "      <td>0.391635</td>\n",
              "      <td>0.368821</td>\n",
              "      <td>0.422053</td>\n",
              "      <td>...</td>\n",
              "      <td>0.524715</td>\n",
              "      <td>0.539924</td>\n",
              "      <td>0.414449</td>\n",
              "      <td>0.539924</td>\n",
              "      <td>0.460076</td>\n",
              "      <td>0.422053</td>\n",
              "      <td>0.593156</td>\n",
              "      <td>0.433460</td>\n",
              "      <td>0.524715</td>\n",
              "      <td>0.399240</td>\n",
              "    </tr>\n",
              "    <tr>\n",
              "      <th>871</th>\n",
              "      <td>1983-05-22</td>\n",
              "      <td>0.235741</td>\n",
              "      <td>0.285171</td>\n",
              "      <td>0.315589</td>\n",
              "      <td>0.281369</td>\n",
              "      <td>0.186312</td>\n",
              "      <td>0.174905</td>\n",
              "      <td>0.254753</td>\n",
              "      <td>0.444867</td>\n",
              "      <td>0.551331</td>\n",
              "      <td>...</td>\n",
              "      <td>0.475285</td>\n",
              "      <td>0.456274</td>\n",
              "      <td>0.384030</td>\n",
              "      <td>0.330798</td>\n",
              "      <td>0.494297</td>\n",
              "      <td>0.479087</td>\n",
              "      <td>0.399240</td>\n",
              "      <td>0.536122</td>\n",
              "      <td>0.627376</td>\n",
              "      <td>0.551331</td>\n",
              "    </tr>\n",
              "    <tr>\n",
              "      <th>2645</th>\n",
              "      <td>1988-03-31</td>\n",
              "      <td>0.612167</td>\n",
              "      <td>0.692015</td>\n",
              "      <td>0.665399</td>\n",
              "      <td>0.623574</td>\n",
              "      <td>0.589354</td>\n",
              "      <td>0.634981</td>\n",
              "      <td>0.615970</td>\n",
              "      <td>0.528517</td>\n",
              "      <td>0.547529</td>\n",
              "      <td>...</td>\n",
              "      <td>0.551331</td>\n",
              "      <td>0.615970</td>\n",
              "      <td>0.634981</td>\n",
              "      <td>0.638783</td>\n",
              "      <td>0.539924</td>\n",
              "      <td>0.482890</td>\n",
              "      <td>0.562738</td>\n",
              "      <td>0.566540</td>\n",
              "      <td>0.593156</td>\n",
              "      <td>0.471483</td>\n",
              "    </tr>\n",
              "    <tr>\n",
              "      <th>...</th>\n",
              "      <td>...</td>\n",
              "      <td>...</td>\n",
              "      <td>...</td>\n",
              "      <td>...</td>\n",
              "      <td>...</td>\n",
              "      <td>...</td>\n",
              "      <td>...</td>\n",
              "      <td>...</td>\n",
              "      <td>...</td>\n",
              "      <td>...</td>\n",
              "      <td>...</td>\n",
              "      <td>...</td>\n",
              "      <td>...</td>\n",
              "      <td>...</td>\n",
              "      <td>...</td>\n",
              "      <td>...</td>\n",
              "      <td>...</td>\n",
              "      <td>...</td>\n",
              "      <td>...</td>\n",
              "      <td>...</td>\n",
              "      <td>...</td>\n",
              "    </tr>\n",
              "    <tr>\n",
              "      <th>1178</th>\n",
              "      <td>1984-03-24</td>\n",
              "      <td>0.676806</td>\n",
              "      <td>0.631179</td>\n",
              "      <td>0.524715</td>\n",
              "      <td>0.460076</td>\n",
              "      <td>0.532319</td>\n",
              "      <td>0.574144</td>\n",
              "      <td>0.524715</td>\n",
              "      <td>0.539924</td>\n",
              "      <td>0.414449</td>\n",
              "      <td>...</td>\n",
              "      <td>0.399240</td>\n",
              "      <td>0.334601</td>\n",
              "      <td>0.479087</td>\n",
              "      <td>0.513308</td>\n",
              "      <td>0.425856</td>\n",
              "      <td>0.574144</td>\n",
              "      <td>0.444867</td>\n",
              "      <td>0.513308</td>\n",
              "      <td>0.536122</td>\n",
              "      <td>0.627376</td>\n",
              "    </tr>\n",
              "    <tr>\n",
              "      <th>1805</th>\n",
              "      <td>1985-12-12</td>\n",
              "      <td>0.536122</td>\n",
              "      <td>0.600760</td>\n",
              "      <td>0.558935</td>\n",
              "      <td>0.631179</td>\n",
              "      <td>0.623574</td>\n",
              "      <td>0.692015</td>\n",
              "      <td>0.555133</td>\n",
              "      <td>0.612167</td>\n",
              "      <td>0.623574</td>\n",
              "      <td>...</td>\n",
              "      <td>0.399240</td>\n",
              "      <td>0.501901</td>\n",
              "      <td>0.429658</td>\n",
              "      <td>0.463878</td>\n",
              "      <td>0.456274</td>\n",
              "      <td>0.365019</td>\n",
              "      <td>0.380228</td>\n",
              "      <td>0.798479</td>\n",
              "      <td>0.589354</td>\n",
              "      <td>0.532319</td>\n",
              "    </tr>\n",
              "    <tr>\n",
              "      <th>633</th>\n",
              "      <td>1982-09-26</td>\n",
              "      <td>0.292776</td>\n",
              "      <td>0.437262</td>\n",
              "      <td>0.323194</td>\n",
              "      <td>0.239544</td>\n",
              "      <td>0.201521</td>\n",
              "      <td>0.152091</td>\n",
              "      <td>0.159696</td>\n",
              "      <td>0.216730</td>\n",
              "      <td>0.338403</td>\n",
              "      <td>...</td>\n",
              "      <td>0.171103</td>\n",
              "      <td>0.190114</td>\n",
              "      <td>0.399240</td>\n",
              "      <td>0.380228</td>\n",
              "      <td>0.152091</td>\n",
              "      <td>0.288973</td>\n",
              "      <td>0.482890</td>\n",
              "      <td>0.539924</td>\n",
              "      <td>0.266160</td>\n",
              "      <td>0.174905</td>\n",
              "    </tr>\n",
              "    <tr>\n",
              "      <th>2928</th>\n",
              "      <td>1989-01-09</td>\n",
              "      <td>0.619772</td>\n",
              "      <td>0.596958</td>\n",
              "      <td>0.463878</td>\n",
              "      <td>0.361217</td>\n",
              "      <td>0.437262</td>\n",
              "      <td>0.638783</td>\n",
              "      <td>0.703422</td>\n",
              "      <td>0.661597</td>\n",
              "      <td>0.543726</td>\n",
              "      <td>...</td>\n",
              "      <td>0.665399</td>\n",
              "      <td>0.631179</td>\n",
              "      <td>0.908745</td>\n",
              "      <td>0.787072</td>\n",
              "      <td>0.749049</td>\n",
              "      <td>0.596958</td>\n",
              "      <td>0.547529</td>\n",
              "      <td>0.418251</td>\n",
              "      <td>0.543726</td>\n",
              "      <td>0.768061</td>\n",
              "    </tr>\n",
              "    <tr>\n",
              "      <th>259</th>\n",
              "      <td>1981-09-17</td>\n",
              "      <td>0.406844</td>\n",
              "      <td>0.536122</td>\n",
              "      <td>0.414449</td>\n",
              "      <td>0.277567</td>\n",
              "      <td>0.437262</td>\n",
              "      <td>0.384030</td>\n",
              "      <td>0.467681</td>\n",
              "      <td>0.296578</td>\n",
              "      <td>0.444867</td>\n",
              "      <td>...</td>\n",
              "      <td>0.228137</td>\n",
              "      <td>0.266160</td>\n",
              "      <td>0.174905</td>\n",
              "      <td>0.250951</td>\n",
              "      <td>0.148289</td>\n",
              "      <td>0.300380</td>\n",
              "      <td>0.281369</td>\n",
              "      <td>0.475285</td>\n",
              "      <td>0.368821</td>\n",
              "      <td>0.288973</td>\n",
              "    </tr>\n",
              "  </tbody>\n",
              "</table>\n",
              "<p>3650 rows × 32 columns</p>\n",
              "</div>\n",
              "      <button class=\"colab-df-convert\" onclick=\"convertToInteractive('df-f9fb9850-7867-4f51-8ff4-f53f02efeda2')\"\n",
              "              title=\"Convert this dataframe to an interactive table.\"\n",
              "              style=\"display:none;\">\n",
              "        \n",
              "  <svg xmlns=\"http://www.w3.org/2000/svg\" height=\"24px\"viewBox=\"0 0 24 24\"\n",
              "       width=\"24px\">\n",
              "    <path d=\"M0 0h24v24H0V0z\" fill=\"none\"/>\n",
              "    <path d=\"M18.56 5.44l.94 2.06.94-2.06 2.06-.94-2.06-.94-.94-2.06-.94 2.06-2.06.94zm-11 1L8.5 8.5l.94-2.06 2.06-.94-2.06-.94L8.5 2.5l-.94 2.06-2.06.94zm10 10l.94 2.06.94-2.06 2.06-.94-2.06-.94-.94-2.06-.94 2.06-2.06.94z\"/><path d=\"M17.41 7.96l-1.37-1.37c-.4-.4-.92-.59-1.43-.59-.52 0-1.04.2-1.43.59L10.3 9.45l-7.72 7.72c-.78.78-.78 2.05 0 2.83L4 21.41c.39.39.9.59 1.41.59.51 0 1.02-.2 1.41-.59l7.78-7.78 2.81-2.81c.8-.78.8-2.07 0-2.86zM5.41 20L4 18.59l7.72-7.72 1.47 1.35L5.41 20z\"/>\n",
              "  </svg>\n",
              "      </button>\n",
              "      \n",
              "  <style>\n",
              "    .colab-df-container {\n",
              "      display:flex;\n",
              "      flex-wrap:wrap;\n",
              "      gap: 12px;\n",
              "    }\n",
              "\n",
              "    .colab-df-convert {\n",
              "      background-color: #E8F0FE;\n",
              "      border: none;\n",
              "      border-radius: 50%;\n",
              "      cursor: pointer;\n",
              "      display: none;\n",
              "      fill: #1967D2;\n",
              "      height: 32px;\n",
              "      padding: 0 0 0 0;\n",
              "      width: 32px;\n",
              "    }\n",
              "\n",
              "    .colab-df-convert:hover {\n",
              "      background-color: #E2EBFA;\n",
              "      box-shadow: 0px 1px 2px rgba(60, 64, 67, 0.3), 0px 1px 3px 1px rgba(60, 64, 67, 0.15);\n",
              "      fill: #174EA6;\n",
              "    }\n",
              "\n",
              "    [theme=dark] .colab-df-convert {\n",
              "      background-color: #3B4455;\n",
              "      fill: #D2E3FC;\n",
              "    }\n",
              "\n",
              "    [theme=dark] .colab-df-convert:hover {\n",
              "      background-color: #434B5C;\n",
              "      box-shadow: 0px 1px 3px 1px rgba(0, 0, 0, 0.15);\n",
              "      filter: drop-shadow(0px 1px 2px rgba(0, 0, 0, 0.3));\n",
              "      fill: #FFFFFF;\n",
              "    }\n",
              "  </style>\n",
              "\n",
              "      <script>\n",
              "        const buttonEl =\n",
              "          document.querySelector('#df-f9fb9850-7867-4f51-8ff4-f53f02efeda2 button.colab-df-convert');\n",
              "        buttonEl.style.display =\n",
              "          google.colab.kernel.accessAllowed ? 'block' : 'none';\n",
              "\n",
              "        async function convertToInteractive(key) {\n",
              "          const element = document.querySelector('#df-f9fb9850-7867-4f51-8ff4-f53f02efeda2');\n",
              "          const dataTable =\n",
              "            await google.colab.kernel.invokeFunction('convertToInteractive',\n",
              "                                                     [key], {});\n",
              "          if (!dataTable) return;\n",
              "\n",
              "          const docLinkHtml = 'Like what you see? Visit the ' +\n",
              "            '<a target=\"_blank\" href=https://colab.research.google.com/notebooks/data_table.ipynb>data table notebook</a>'\n",
              "            + ' to learn more about interactive tables.';\n",
              "          element.innerHTML = '';\n",
              "          dataTable['output_type'] = 'display_data';\n",
              "          await google.colab.output.renderOutput(dataTable, element);\n",
              "          const docLink = document.createElement('div');\n",
              "          docLink.innerHTML = docLinkHtml;\n",
              "          element.appendChild(docLink);\n",
              "        }\n",
              "      </script>\n",
              "    </div>\n",
              "  </div>\n",
              "  "
            ]
          },
          "metadata": {},
          "execution_count": 11
        }
      ]
    },
    {
      "cell_type": "code",
      "source": [
        "df.set_index('Date')\n",
        "df.columns"
      ],
      "metadata": {
        "colab": {
          "base_uri": "https://localhost:8080/"
        },
        "id": "NSEu40px2Quv",
        "outputId": "d5edadc9-f201-4687-d911-bd88444d74fb"
      },
      "execution_count": null,
      "outputs": [
        {
          "output_type": "execute_result",
          "data": {
            "text/plain": [
              "Index(['Date', 'Temp', 'shift_1', 'shift_2', 'shift_3', 'shift_4', 'shift_5',\n",
              "       'shift_6', 'shift_7', 'shift_8', 'shift_9', 'shift_10', 'shift_11',\n",
              "       'shift_12', 'shift_13', 'shift_14', 'shift_15', 'shift_16', 'shift_17',\n",
              "       'shift_18', 'shift_19', 'shift_20', 'shift_21', 'shift_22', 'shift_23',\n",
              "       'shift_24', 'shift_25', 'shift_26', 'shift_27', 'shift_28', 'shift_29',\n",
              "       'shift_30'],\n",
              "      dtype='object')"
            ]
          },
          "metadata": {},
          "execution_count": 12
        }
      ]
    },
    {
      "cell_type": "markdown",
      "source": [
        "### Converting to Tensor dataset"
      ],
      "metadata": {
        "id": "SzniX3Ryx8PL"
      }
    },
    {
      "cell_type": "code",
      "source": [
        "ds = tf.data.Dataset.from_tensor_slices(dict(df))"
      ],
      "metadata": {
        "id": "1bAF5AGkxdHJ"
      },
      "execution_count": null,
      "outputs": []
    },
    {
      "cell_type": "code",
      "source": [
        "type(ds)"
      ],
      "metadata": {
        "colab": {
          "base_uri": "https://localhost:8080/"
        },
        "id": "gFpg5Kp_mgYs",
        "outputId": "a89207c1-8a5f-4a0e-f9d0-f81f9b599367"
      },
      "execution_count": null,
      "outputs": [
        {
          "output_type": "execute_result",
          "data": {
            "text/plain": [
              "tensorflow.python.data.ops.dataset_ops.TensorSliceDataset"
            ]
          },
          "metadata": {},
          "execution_count": 14
        }
      ]
    },
    {
      "cell_type": "markdown",
      "source": [
        "### Splitting dataset into train and test"
      ],
      "metadata": {
        "id": "ZsYqN8-gyn-U"
      }
    },
    {
      "cell_type": "markdown",
      "source": [
        "Using first 5 shifts has sequenced output and remaining 25 as sequence of inputs"
      ],
      "metadata": {
        "id": "nb4KJ7o69TGh"
      }
    },
    {
      "cell_type": "code",
      "source": [
        "X = df.dropna().drop(['Temp', 'Date', 'shift_1', 'shift_2', 'shift_3', 'shift_4', 'shift_5'], axis=1)\n",
        "y = df.dropna()[['shift_1', 'shift_2', 'shift_3', 'shift_4', 'shift_5']]"
      ],
      "metadata": {
        "id": "3OoHk_C9y9-l"
      },
      "execution_count": null,
      "outputs": []
    },
    {
      "cell_type": "code",
      "source": [
        "X.shape, y.shape"
      ],
      "metadata": {
        "colab": {
          "base_uri": "https://localhost:8080/"
        },
        "id": "rLyEg8eG1aNS",
        "outputId": "00b3e200-1c77-4ac8-d132-55e9d47dfe11"
      },
      "execution_count": null,
      "outputs": [
        {
          "output_type": "execute_result",
          "data": {
            "text/plain": [
              "((3620, 25), (3620, 5))"
            ]
          },
          "metadata": {},
          "execution_count": 16
        }
      ]
    },
    {
      "cell_type": "code",
      "source": [
        "#splitting the rest set further into test and validation set\n",
        "X_train, X_rest, y_train, y_rest = train_test_split(X, y, test_size=0.3, random_state=4)\n",
        "X_valid, X_test, y_valid, y_test = train_test_split(X_rest, y_rest, test_size=0.5, random_state=4)"
      ],
      "metadata": {
        "id": "mEyKpx8TynLB"
      },
      "execution_count": null,
      "outputs": []
    },
    {
      "cell_type": "code",
      "source": [
        "X_train = np.array(X_train).reshape(len(X_train), 1, 25)\n",
        "y_train = np.array(y_train).reshape(len(y_train), 1, 5)\n",
        "X_valid = np.array(X_valid).reshape(len(X_valid), 1, 25)\n",
        "y_valid = np.array(y_valid).reshape(len(y_valid), 1, 5)\n",
        "X_test = np.array(X_test).reshape(len(X_test), 1, 25)\n",
        "y_test = np.array(y_test).reshape(len(y_test), 1, 5)"
      ],
      "metadata": {
        "id": "hmIf3t-_q_ER"
      },
      "execution_count": null,
      "outputs": []
    },
    {
      "cell_type": "markdown",
      "source": [
        "### Defining loss function"
      ],
      "metadata": {
        "id": "g6ML9ooF9M_P"
      }
    },
    {
      "cell_type": "code",
      "source": [
        "def last_time_step_mse(Y_true, Y_pred):\n",
        "    return keras.metrics.mean_squared_error(Y_true[:, -1], Y_pred[:, -1])"
      ],
      "metadata": {
        "id": "Z2XF7Sc-g6tN"
      },
      "execution_count": null,
      "outputs": []
    },
    {
      "cell_type": "markdown",
      "source": [
        "### Model 1: RNN"
      ],
      "metadata": {
        "id": "IqWGJg9C9DS7"
      }
    },
    {
      "cell_type": "code",
      "source": [
        "model_rnn = keras.models.Sequential([\n",
        "    keras.layers.SimpleRNN(20, return_sequences=True, input_shape=[None, 25]),\n",
        "    keras.layers.SimpleRNN(15, return_sequences=True),\n",
        "    keras.layers.SimpleRNN(10, return_sequences=True),\n",
        "    keras.layers.TimeDistributed(keras.layers.Dense(5))\n",
        "])"
      ],
      "metadata": {
        "id": "nwBWo71Gg65i"
      },
      "execution_count": null,
      "outputs": []
    },
    {
      "cell_type": "code",
      "source": [
        "model_rnn.compile(loss=\"mse\", optimizer=keras.optimizers.Adam(), metrics=[last_time_step_mse])\n",
        "\n",
        "history_rnn = model_rnn.fit(X_train, y_train, epochs=3, validation_data=(X_valid, y_valid))"
      ],
      "metadata": {
        "colab": {
          "base_uri": "https://localhost:8080/"
        },
        "id": "5GDX4ZWBg3xg",
        "outputId": "f116e0db-e4fe-4d7b-dffa-a23b3f794299"
      },
      "execution_count": null,
      "outputs": [
        {
          "output_type": "stream",
          "name": "stdout",
          "text": [
            "Epoch 1/3\n",
            "80/80 [==============================] - 13s 41ms/step - loss: 0.1195 - last_time_step_mse: 0.1195 - val_loss: 0.0222 - val_last_time_step_mse: 0.0222\n",
            "Epoch 2/3\n",
            "80/80 [==============================] - 1s 13ms/step - loss: 0.0203 - last_time_step_mse: 0.0203 - val_loss: 0.0176 - val_last_time_step_mse: 0.0176\n",
            "Epoch 3/3\n",
            "80/80 [==============================] - 1s 13ms/step - loss: 0.0174 - last_time_step_mse: 0.0174 - val_loss: 0.0156 - val_last_time_step_mse: 0.0156\n"
          ]
        }
      ]
    },
    {
      "cell_type": "code",
      "source": [
        "model_rnn.evaluate(X_test, y_test)"
      ],
      "metadata": {
        "colab": {
          "base_uri": "https://localhost:8080/"
        },
        "id": "uvbcZ9Sl7ayz",
        "outputId": "fa1a5a4d-a296-4909-97c2-e0c6268b93b6"
      },
      "execution_count": null,
      "outputs": [
        {
          "output_type": "stream",
          "name": "stdout",
          "text": [
            "17/17 [==============================] - 0s 7ms/step - loss: 0.0169 - last_time_step_mse: 0.0169\n"
          ]
        },
        {
          "output_type": "execute_result",
          "data": {
            "text/plain": [
              "[0.01694853976368904, 0.01694853976368904]"
            ]
          },
          "metadata": {},
          "execution_count": 22
        }
      ]
    },
    {
      "cell_type": "code",
      "source": [
        "y_pred_rnn = model_rnn.predict(X_test)"
      ],
      "metadata": {
        "id": "tC2dnNwCIek5"
      },
      "execution_count": null,
      "outputs": []
    },
    {
      "cell_type": "code",
      "source": [
        "plot_multiple_forecasts(X_test, y_test, y_pred_rnn)"
      ],
      "metadata": {
        "colab": {
          "base_uri": "https://localhost:8080/",
          "height": 269
        },
        "id": "LKZ-HBF0Iexy",
        "outputId": "ed0ce2ca-395f-42f6-bb73-14e1ce425e5b"
      },
      "execution_count": null,
      "outputs": [
        {
          "output_type": "display_data",
          "data": {
            "text/plain": [
              "<Figure size 432x288 with 1 Axes>"
            ],
            "image/png": "[encoded data removed]"
          },
          "metadata": {
            "needs_background": "light"
          }
        }
      ]
    },
    {
      "cell_type": "markdown",
      "source": [
        "### Model 2: LSTM"
      ],
      "metadata": {
        "id": "nw5_siEE89sc"
      }
    },
    {
      "cell_type": "code",
      "source": [
        "model_lstm = keras.models.Sequential([\n",
        "    keras.layers.LSTM(20, return_sequences=True, input_shape=[None, 25]),\n",
        "    keras.layers.LSTM(15, return_sequences=True),\n",
        "    keras.layers.LSTM(10, return_sequences=True),\n",
        "    keras.layers.TimeDistributed(keras.layers.Dense(5))\n",
        "])"
      ],
      "metadata": {
        "id": "vnNf-gkj7cDa"
      },
      "execution_count": null,
      "outputs": []
    },
    {
      "cell_type": "code",
      "source": [
        "model_lstm.compile(loss=\"mse\", optimizer=keras.optimizers.Adam(), metrics=[last_time_step_mse])\n",
        "history_lstm = model_lstm.fit(X_train, y_train, epochs=3, validation_data=(X_valid, y_valid))"
      ],
      "metadata": {
        "colab": {
          "base_uri": "https://localhost:8080/"
        },
        "id": "EuBc6yiw8uDc",
        "outputId": "0a5d1e1a-b50b-4194-fe4f-c9cbd128fb21"
      },
      "execution_count": null,
      "outputs": [
        {
          "output_type": "stream",
          "name": "stdout",
          "text": [
            "Epoch 1/3\n",
            "80/80 [==============================] - 23s 27ms/step - loss: 0.1132 - last_time_step_mse: 0.1132 - val_loss: 0.0196 - val_last_time_step_mse: 0.0196\n",
            "Epoch 2/3\n",
            "80/80 [==============================] - 1s 7ms/step - loss: 0.0143 - last_time_step_mse: 0.0143 - val_loss: 0.0121 - val_last_time_step_mse: 0.0121\n",
            "Epoch 3/3\n",
            "80/80 [==============================] - 1s 8ms/step - loss: 0.0123 - last_time_step_mse: 0.0123 - val_loss: 0.0116 - val_last_time_step_mse: 0.0116\n"
          ]
        }
      ]
    },
    {
      "cell_type": "code",
      "source": [
        "model_lstm.evaluate(X_test, y_test)"
      ],
      "metadata": {
        "colab": {
          "base_uri": "https://localhost:8080/"
        },
        "id": "rWz0HMPR8FJW",
        "outputId": "2651cbd8-4a24-4c53-cca5-b29069e0ec7e"
      },
      "execution_count": null,
      "outputs": [
        {
          "output_type": "stream",
          "name": "stdout",
          "text": [
            "17/17 [==============================] - 0s 3ms/step - loss: 0.0127 - last_time_step_mse: 0.0127\n"
          ]
        },
        {
          "output_type": "execute_result",
          "data": {
            "text/plain": [
              "[0.012652707286179066, 0.012652707286179066]"
            ]
          },
          "metadata": {},
          "execution_count": 27
        }
      ]
    },
    {
      "cell_type": "code",
      "source": [
        "y_pred_lstm = model_lstm.predict(X_test)"
      ],
      "metadata": {
        "id": "oPKcog2GIa04"
      },
      "execution_count": null,
      "outputs": []
    },
    {
      "cell_type": "code",
      "source": [
        "plot_multiple_forecasts(X_test, y_test, y_pred_lstm)"
      ],
      "metadata": {
        "colab": {
          "base_uri": "https://localhost:8080/",
          "height": 269
        },
        "id": "PQt4lDmCIZOV",
        "outputId": "b789dff8-003d-474d-bcad-b05b375550e2"
      },
      "execution_count": null,
      "outputs": [
        {
          "output_type": "display_data",
          "data": {
            "text/plain": [
              "<Figure size 432x288 with 1 Axes>"
            ],
            "image/png": "[encoded data removed]"
          },
          "metadata": {
            "needs_background": "light"
          }
        }
      ]
    },
    {
      "cell_type": "markdown",
      "source": [
        "### Model 3: GRU"
      ],
      "metadata": {
        "id": "QakZNOf4844u"
      }
    },
    {
      "cell_type": "code",
      "source": [
        "model_gru = keras.models.Sequential([\n",
        "    keras.layers.GRU(20, return_sequences=True, input_shape=[None, 25]),\n",
        "    keras.layers.GRU(15, return_sequences=True),\n",
        "    keras.layers.GRU(10, return_sequences=True),\n",
        "    keras.layers.TimeDistributed(keras.layers.Dense(5))\n",
        "])"
      ],
      "metadata": {
        "id": "Bgoer2S78Yev"
      },
      "execution_count": null,
      "outputs": []
    },
    {
      "cell_type": "code",
      "source": [
        "model_gru.compile(loss=\"mse\", optimizer=keras.optimizers.Adam(), metrics=[last_time_step_mse])\n",
        "history_gru = model_gru.fit(X_train, y_train, epochs=3, validation_data=(X_valid, y_valid))"
      ],
      "metadata": {
        "colab": {
          "base_uri": "https://localhost:8080/"
        },
        "id": "-4wOWBXx8wYU",
        "outputId": "216b94e1-8f8c-4ac9-b890-91b00aad8025"
      },
      "execution_count": null,
      "outputs": [
        {
          "output_type": "stream",
          "name": "stdout",
          "text": [
            "Epoch 1/3\n",
            "80/80 [==============================] - 8s 25ms/step - loss: 0.0875 - last_time_step_mse: 0.0875 - val_loss: 0.0154 - val_last_time_step_mse: 0.0154\n",
            "Epoch 2/3\n",
            "80/80 [==============================] - 1s 8ms/step - loss: 0.0150 - last_time_step_mse: 0.0150 - val_loss: 0.0130 - val_last_time_step_mse: 0.0130\n",
            "Epoch 3/3\n",
            "80/80 [==============================] - 1s 8ms/step - loss: 0.0130 - last_time_step_mse: 0.0130 - val_loss: 0.0118 - val_last_time_step_mse: 0.0118\n"
          ]
        }
      ]
    },
    {
      "cell_type": "code",
      "source": [
        "model_gru.evaluate(X_test, y_test)"
      ],
      "metadata": {
        "colab": {
          "base_uri": "https://localhost:8080/"
        },
        "id": "1RGWoJ8d8jJT",
        "outputId": "1c1f42f9-e6ae-4729-da64-0bcd76fe355b"
      },
      "execution_count": null,
      "outputs": [
        {
          "output_type": "stream",
          "name": "stdout",
          "text": [
            "17/17 [==============================] - 0s 3ms/step - loss: 0.0127 - last_time_step_mse: 0.0127\n"
          ]
        },
        {
          "output_type": "execute_result",
          "data": {
            "text/plain": [
              "[0.012716584838926792, 0.012716584838926792]"
            ]
          },
          "metadata": {},
          "execution_count": 32
        }
      ]
    },
    {
      "cell_type": "code",
      "source": [
        "y_pred_gru = model_gru.predict(X_test)"
      ],
      "metadata": {
        "id": "b6H7K_4i_gPz"
      },
      "execution_count": null,
      "outputs": []
    },
    {
      "cell_type": "code",
      "source": [
        "plot_multiple_forecasts(X_test, y_test, y_pred_gru)"
      ],
      "metadata": {
        "colab": {
          "base_uri": "https://localhost:8080/",
          "height": 269
        },
        "id": "n3Xgb9Rk_vKa",
        "outputId": "23a2ef31-f8c4-437b-ea78-b68f793daece"
      },
      "execution_count": null,
      "outputs": [
        {
          "output_type": "display_data",
          "data": {
            "text/plain": [
              "<Figure size 432x288 with 1 Axes>"
            ],
            "image/png": "[encoded data removed]"
          },
          "metadata": {
            "needs_background": "light"
          }
        }
      ]
    },
    {
      "cell_type": "markdown",
      "source": [
        "### Plot 1: Based on history"
      ],
      "metadata": {
        "id": "1EQhQvOI-NQD"
      }
    },
    {
      "cell_type": "code",
      "source": [
        "df1 = pd.DataFrame(history_rnn.history['last_time_step_mse'], columns=[\"RNN\"])\n",
        "df1[\"LSTM\"] = history_lstm.history['last_time_step_mse']\n",
        "df1[\"GRU\"] = history_gru.history['last_time_step_mse']\n",
        "\n",
        "df1"
      ],
      "metadata": {
        "colab": {
          "base_uri": "https://localhost:8080/",
          "height": 143
        },
        "id": "YlYqxRnQ-Ntt",
        "outputId": "b5039e02-54be-45d4-909d-59d9641603f2"
      },
      "execution_count": null,
      "outputs": [
        {
          "output_type": "execute_result",
          "data": {
            "text/plain": [
              "        RNN      LSTM       GRU\n",
              "0  0.119455  0.113248  0.087491\n",
              "1  0.020287  0.014317  0.015045\n",
              "2  0.017444  0.012318  0.012957"
            ],
            "text/html": [
              "\n",
              "  <div id=\"df-09e4d209-015f-4275-86be-2a1a3534506d\">\n",
              "    <div class=\"colab-df-container\">\n",
              "      <div>\n",
              "<style scoped>\n",
              "    .dataframe tbody tr th:only-of-type {\n",
              "        vertical-align: middle;\n",
              "    }\n",
              "\n",
              "    .dataframe tbody tr th {\n",
              "        vertical-align: top;\n",
              "    }\n",
              "\n",
              "    .dataframe thead th {\n",
              "        text-align: right;\n",
              "    }\n",
              "</style>\n",
              "<table border=\"1\" class=\"dataframe\">\n",
              "  <thead>\n",
              "    <tr style=\"text-align: right;\">\n",
              "      <th></th>\n",
              "      <th>RNN</th>\n",
              "      <th>LSTM</th>\n",
              "      <th>GRU</th>\n",
              "    </tr>\n",
              "  </thead>\n",
              "  <tbody>\n",
              "    <tr>\n",
              "      <th>0</th>\n",
              "      <td>0.119455</td>\n",
              "      <td>0.113248</td>\n",
              "      <td>0.087491</td>\n",
              "    </tr>\n",
              "    <tr>\n",
              "      <th>1</th>\n",
              "      <td>0.020287</td>\n",
              "      <td>0.014317</td>\n",
              "      <td>0.015045</td>\n",
              "    </tr>\n",
              "    <tr>\n",
              "      <th>2</th>\n",
              "      <td>0.017444</td>\n",
              "      <td>0.012318</td>\n",
              "      <td>0.012957</td>\n",
              "    </tr>\n",
              "  </tbody>\n",
              "</table>\n",
              "</div>\n",
              "      <button class=\"colab-df-convert\" onclick=\"convertToInteractive('df-09e4d209-015f-4275-86be-2a1a3534506d')\"\n",
              "              title=\"Convert this dataframe to an interactive table.\"\n",
              "              style=\"display:none;\">\n",
              "        \n",
              "  <svg xmlns=\"http://www.w3.org/2000/svg\" height=\"24px\"viewBox=\"0 0 24 24\"\n",
              "       width=\"24px\">\n",
              "    <path d=\"M0 0h24v24H0V0z\" fill=\"none\"/>\n",
              "    <path d=\"M18.56 5.44l.94 2.06.94-2.06 2.06-.94-2.06-.94-.94-2.06-.94 2.06-2.06.94zm-11 1L8.5 8.5l.94-2.06 2.06-.94-2.06-.94L8.5 2.5l-.94 2.06-2.06.94zm10 10l.94 2.06.94-2.06 2.06-.94-2.06-.94-.94-2.06-.94 2.06-2.06.94z\"/><path d=\"M17.41 7.96l-1.37-1.37c-.4-.4-.92-.59-1.43-.59-.52 0-1.04.2-1.43.59L10.3 9.45l-7.72 7.72c-.78.78-.78 2.05 0 2.83L4 21.41c.39.39.9.59 1.41.59.51 0 1.02-.2 1.41-.59l7.78-7.78 2.81-2.81c.8-.78.8-2.07 0-2.86zM5.41 20L4 18.59l7.72-7.72 1.47 1.35L5.41 20z\"/>\n",
              "  </svg>\n",
              "      </button>\n",
              "      \n",
              "  <style>\n",
              "    .colab-df-container {\n",
              "      display:flex;\n",
              "      flex-wrap:wrap;\n",
              "      gap: 12px;\n",
              "    }\n",
              "\n",
              "    .colab-df-convert {\n",
              "      background-color: #E8F0FE;\n",
              "      border: none;\n",
              "      border-radius: 50%;\n",
              "      cursor: pointer;\n",
              "      display: none;\n",
              "      fill: #1967D2;\n",
              "      height: 32px;\n",
              "      padding: 0 0 0 0;\n",
              "      width: 32px;\n",
              "    }\n",
              "\n",
              "    .colab-df-convert:hover {\n",
              "      background-color: #E2EBFA;\n",
              "      box-shadow: 0px 1px 2px rgba(60, 64, 67, 0.3), 0px 1px 3px 1px rgba(60, 64, 67, 0.15);\n",
              "      fill: #174EA6;\n",
              "    }\n",
              "\n",
              "    [theme=dark] .colab-df-convert {\n",
              "      background-color: #3B4455;\n",
              "      fill: #D2E3FC;\n",
              "    }\n",
              "\n",
              "    [theme=dark] .colab-df-convert:hover {\n",
              "      background-color: #434B5C;\n",
              "      box-shadow: 0px 1px 3px 1px rgba(0, 0, 0, 0.15);\n",
              "      filter: drop-shadow(0px 1px 2px rgba(0, 0, 0, 0.3));\n",
              "      fill: #FFFFFF;\n",
              "    }\n",
              "  </style>\n",
              "\n",
              "      <script>\n",
              "        const buttonEl =\n",
              "          document.querySelector('#df-09e4d209-015f-4275-86be-2a1a3534506d button.colab-df-convert');\n",
              "        buttonEl.style.display =\n",
              "          google.colab.kernel.accessAllowed ? 'block' : 'none';\n",
              "\n",
              "        async function convertToInteractive(key) {\n",
              "          const element = document.querySelector('#df-09e4d209-015f-4275-86be-2a1a3534506d');\n",
              "          const dataTable =\n",
              "            await google.colab.kernel.invokeFunction('convertToInteractive',\n",
              "                                                     [key], {});\n",
              "          if (!dataTable) return;\n",
              "\n",
              "          const docLinkHtml = 'Like what you see? Visit the ' +\n",
              "            '<a target=\"_blank\" href=https://colab.research.google.com/notebooks/data_table.ipynb>data table notebook</a>'\n",
              "            + ' to learn more about interactive tables.';\n",
              "          element.innerHTML = '';\n",
              "          dataTable['output_type'] = 'display_data';\n",
              "          await google.colab.output.renderOutput(dataTable, element);\n",
              "          const docLink = document.createElement('div');\n",
              "          docLink.innerHTML = docLinkHtml;\n",
              "          element.appendChild(docLink);\n",
              "        }\n",
              "      </script>\n",
              "    </div>\n",
              "  </div>\n",
              "  "
            ]
          },
          "metadata": {},
          "execution_count": 35
        }
      ]
    },
    {
      "cell_type": "code",
      "source": [
        "df1.plot(figsize=(8, 5))\n",
        "plt.grid(True)\n",
        "plt.show()"
      ],
      "metadata": {
        "colab": {
          "base_uri": "https://localhost:8080/",
          "height": 320
        },
        "id": "II98IF09-sFZ",
        "outputId": "16288c66-e3f9-44d8-ca01-aac1f7413111"
      },
      "execution_count": null,
      "outputs": [
        {
          "output_type": "display_data",
          "data": {
            "text/plain": [
              "<Figure size 576x360 with 1 Axes>"
            ],
            "image/png": "[encoded data removed]"
          },
          "metadata": {
            "needs_background": "light"
          }
        }
      ]
    },
    {
      "cell_type": "markdown",
      "source": [
        "### Plot 2: Combining preds"
      ],
      "metadata": {
        "id": "BrHd3RaWI6Tl"
      }
    },
    {
      "cell_type": "code",
      "source": [
        "def plot_multiple_forecasts_combined(X, Y, Y_rnn, Y_lstm, Y_gru):\n",
        "    n_steps = X.shape[2]\n",
        "    ahead = Y.shape[2]\n",
        "    plot_series(X[0, :, 0], 25)\n",
        "    plt.plot(np.arange(n_steps, n_steps + ahead), Y[0, 0, :], \"ro-\", label=\"Actual\")\n",
        "    plt.plot(np.arange(n_steps, n_steps + ahead), Y_rnn[0, 0, :], \"bx-\", label=\"RNN\", markersize=10, color = \"green\")\n",
        "    plt.plot(np.arange(n_steps, n_steps + ahead), Y_lstm[0, 0, :], \"bx-\", label=\"LSTM\", markersize=10, color = \"blue\")\n",
        "    plt.plot(np.arange(n_steps, n_steps + ahead), Y_gru[0, 0, :], \"bx-\", label=\"GRU\", markersize=10, color = \"yellow\")\n",
        "    plt.axis([0, n_steps + ahead, -1, 1])\n",
        "    plt.gca().set_ylim(0.4, 0.75)\n",
        "    plt.gca().set_xlim(25, 30)\n",
        "    plt.legend(fontsize=10)"
      ],
      "metadata": {
        "id": "DM9Z0cVc-vxS"
      },
      "execution_count": null,
      "outputs": []
    },
    {
      "cell_type": "code",
      "source": [
        "plot_multiple_forecasts_combined(X_test, y_test, y_pred_rnn, y_pred_lstm, y_pred_gru)"
      ],
      "metadata": {
        "colab": {
          "base_uri": "https://localhost:8080/",
          "height": 269
        },
        "id": "ucRMpCUrJI7V",
        "outputId": "e6c1dd01-60c0-4c37-d34b-137f86a90386"
      },
      "execution_count": null,
      "outputs": [
        {
          "output_type": "display_data",
          "data": {
            "text/plain": [
              "<Figure size 432x288 with 1 Axes>"
            ],
            "image/png": "[encoded data removed]"
          },
          "metadata": {
            "needs_background": "light"
          }
        }
      ]
    }
  ]
}