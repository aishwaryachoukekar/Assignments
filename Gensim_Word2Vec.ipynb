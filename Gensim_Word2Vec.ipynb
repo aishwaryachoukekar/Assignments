{
  "nbformat": 4,
  "nbformat_minor": 0,
  "metadata": {
    "colab": {
      "name": "Homework1_AishwaryaC.ipynb",
      "provenance": [],
      "collapsed_sections": []
    },
    "kernelspec": {
      "name": "python3",
      "display_name": "Python 3"
    },
    "language_info": {
      "name": "python"
    }
  },
  "cells": [
    {
      "cell_type": "markdown",
      "metadata": {
        "id": "hhg2ldaoPzA5"
      },
      "source": [
        "# Homework 1\n",
        "Train a word2vec model using gensim. [This article](https://kavita-ganesan.com/gensim-word2vec-tutorial-starter-code/#.YIc63H1KjUI) can provide a straightforward way for building a model simply with gensim.\n",
        "\n",
        "After the model is built, take 20 words are random and plot them using ```tsnescatterplot()```. You can reuse the code we went through in class."
      ]
    },
    {
      "cell_type": "code",
      "source": [
        "#pip install gensim"
      ],
      "metadata": {
        "id": "5QmfX2WaOKtA"
      },
      "execution_count": null,
      "outputs": []
    },
    {
      "cell_type": "markdown",
      "source": [
        "### Reading Libraries"
      ],
      "metadata": {
        "id": "gWlf0YKWqAY7"
      }
    },
    {
      "cell_type": "code",
      "source": [
        "import gensim \n",
        "from gensim.models import Word2Vec\n",
        "from time import time \n",
        "import numpy as np\n",
        "import matplotlib.pyplot as plt\n",
        "%matplotlib inline\n",
        "import pandas as pd\n",
        "import seaborn as sns\n",
        "sns.set_style(\"darkgrid\")\n",
        "import random\n",
        "\n",
        "from sklearn.decomposition import PCA\n",
        "from sklearn.manifold import TSNE"
      ],
      "metadata": {
        "id": "tC034-ykOi0T"
      },
      "execution_count": null,
      "outputs": []
    },
    {
      "cell_type": "markdown",
      "source": [
        "### Getting data"
      ],
      "metadata": {
        "id": "s5Ed1VsGqEkD"
      }
    },
    {
      "cell_type": "code",
      "metadata": {
        "colab": {
          "base_uri": "https://localhost:8080/"
        },
        "id": "G_Bkf_wrMgfs",
        "outputId": "bac9c698-41d0-4525-a075-ded607fecfba"
      },
      "source": [
        "!wget https://storage.googleapis.com/nicksdemobucket/shakespeare.txt"
      ],
      "execution_count": null,
      "outputs": [
        {
          "output_type": "stream",
          "name": "stdout",
          "text": [
            "--2022-05-06 17:39:47--  https://storage.googleapis.com/nicksdemobucket/shakespeare.txt\n",
            "Resolving storage.googleapis.com (storage.googleapis.com)... 142.250.99.128, 74.125.142.128, 2607:f8b0:400e:c07::80, ...\n",
            "Connecting to storage.googleapis.com (storage.googleapis.com)|142.250.99.128|:443... connected.\n",
            "HTTP request sent, awaiting response... 200 OK\n",
            "Length: 1115394 (1.1M) [text/plain]\n",
            "Saving to: ‘shakespeare.txt’\n",
            "\n",
            "shakespeare.txt     100%[===================>]   1.06M  --.-KB/s    in 0.03s   \n",
            "\n",
            "2022-05-06 17:39:47 (41.6 MB/s) - ‘shakespeare.txt’ saved [1115394/1115394]\n",
            "\n"
          ]
        }
      ]
    },
    {
      "cell_type": "code",
      "metadata": {
        "id": "Euvqg2b2R1lC"
      },
      "source": [
        "with open('shakespeare.txt', 'r') as file:\n",
        "    shakespeare_text = file.read().replace('\\n', ' ')"
      ],
      "execution_count": null,
      "outputs": []
    },
    {
      "cell_type": "code",
      "metadata": {
        "colab": {
          "base_uri": "https://localhost:8080/"
        },
        "id": "uxKRSFJNRfBU",
        "outputId": "b770609f-e7ae-4741-c08b-d494298aa83f"
      },
      "source": [
        "print(shakespeare_text[:150])"
      ],
      "execution_count": null,
      "outputs": [
        {
          "output_type": "stream",
          "name": "stdout",
          "text": [
            "First Citizen: Before we proceed any further, hear me speak.  All: Speak, speak.  First Citizen: You are all resolved rather to die than to famish?  A\n"
          ]
        }
      ]
    },
    {
      "cell_type": "markdown",
      "source": [
        "### Pre-processing data\n",
        "\n",
        "- replacing colons and comma.\n",
        "- splitting string into list based on full stop.\n",
        "- Converting list to list of lists which is expected input for Word2Vec."
      ],
      "metadata": {
        "id": "3sc3opiuqIm1"
      }
    },
    {
      "cell_type": "code",
      "source": [
        "type(shakespeare_text)"
      ],
      "metadata": {
        "colab": {
          "base_uri": "https://localhost:8080/"
        },
        "id": "3xyCfY34LDiC",
        "outputId": "438085a5-3209-48ce-973e-37c9ec8406e6"
      },
      "execution_count": null,
      "outputs": [
        {
          "output_type": "execute_result",
          "data": {
            "text/plain": [
              "str"
            ]
          },
          "metadata": {},
          "execution_count": 6
        }
      ]
    },
    {
      "cell_type": "code",
      "source": [
        "shakespeare_text = shakespeare_text.replace(':', '')\n",
        "shakespeare_text = shakespeare_text.replace(',', '')"
      ],
      "metadata": {
        "id": "aKK28OJFLMSK"
      },
      "execution_count": null,
      "outputs": []
    },
    {
      "cell_type": "code",
      "source": [
        "sent_list = shakespeare_text.split(\". \")\n",
        "sent_list[:2]"
      ],
      "metadata": {
        "colab": {
          "base_uri": "https://localhost:8080/"
        },
        "id": "yWNggw5RLkG7",
        "outputId": "42d38730-3302-433c-bcea-eb9636467a23"
      },
      "execution_count": null,
      "outputs": [
        {
          "output_type": "execute_result",
          "data": {
            "text/plain": [
              "['First Citizen Before we proceed any further hear me speak',\n",
              " ' All Speak speak']"
            ]
          },
          "metadata": {},
          "execution_count": 8
        }
      ]
    },
    {
      "cell_type": "code",
      "source": [
        "#Converting to list of lists\n",
        "def list_of_list(lst):\n",
        "    return [gensim.utils.simple_preprocess(el) for el in lst]\n",
        "                  \n",
        "final_list = list_of_list(sent_list)\n",
        "final_list[:2]"
      ],
      "metadata": {
        "colab": {
          "base_uri": "https://localhost:8080/"
        },
        "id": "iT0oEZj2LpXj",
        "outputId": "d6dee26f-842e-4f90-f736-a42594c2b5ac"
      },
      "execution_count": null,
      "outputs": [
        {
          "output_type": "execute_result",
          "data": {
            "text/plain": [
              "[['first',\n",
              "  'citizen',\n",
              "  'before',\n",
              "  'we',\n",
              "  'proceed',\n",
              "  'any',\n",
              "  'further',\n",
              "  'hear',\n",
              "  'me',\n",
              "  'speak'],\n",
              " ['all', 'speak', 'speak']]"
            ]
          },
          "metadata": {},
          "execution_count": 9
        }
      ]
    },
    {
      "cell_type": "markdown",
      "source": [
        "### Building gensim Word2Vec model"
      ],
      "metadata": {
        "id": "f2p4rAR-qgwN"
      }
    },
    {
      "cell_type": "code",
      "source": [
        "t = time()\n",
        "model = Word2Vec(final_list, min_count=1,size= 75,workers=3, window = 5, iter = 10)\n",
        "model.train(final_list,total_examples=len(final_list),epochs=10)\n",
        "print('Time to build and train model: {} mins'.format(round((time() - t) / 60, 2)))"
      ],
      "metadata": {
        "colab": {
          "base_uri": "https://localhost:8080/"
        },
        "id": "Y965qOoDNpAV",
        "outputId": "69f76bc7-d112-4ac5-a86a-a002dd1d9961"
      },
      "execution_count": null,
      "outputs": [
        {
          "output_type": "stream",
          "name": "stdout",
          "text": [
            "Time to build and train model: 0.28 mins\n"
          ]
        }
      ]
    },
    {
      "cell_type": "code",
      "source": [
        "model.init_sims(replace=True)"
      ],
      "metadata": {
        "id": "shtOO6arQgcz"
      },
      "execution_count": null,
      "outputs": []
    },
    {
      "cell_type": "markdown",
      "source": [
        "- Running some basic functions to test the model built."
      ],
      "metadata": {
        "id": "Sv03PYp6qqxJ"
      }
    },
    {
      "cell_type": "code",
      "source": [
        "model.wv.most_similar(positive=[\"love\"])"
      ],
      "metadata": {
        "colab": {
          "base_uri": "https://localhost:8080/"
        },
        "id": "k-48fh5iQrpS",
        "outputId": "8d606b3f-d1b5-4ee2-c0f5-8893e78f474d"
      },
      "execution_count": null,
      "outputs": [
        {
          "output_type": "execute_result",
          "data": {
            "text/plain": [
              "[('heart', 0.7490205764770508),\n",
              " ('yours', 0.7232699990272522),\n",
              " ('hate', 0.7219093441963196),\n",
              " ('sin', 0.7072398066520691),\n",
              " ('sprung', 0.6688291430473328),\n",
              " ('burden', 0.6571119427680969),\n",
              " ('derivative', 0.653865396976471),\n",
              " ('weep', 0.652944028377533),\n",
              " ('true', 0.6495804786682129),\n",
              " ('tender', 0.647277295589447)]"
            ]
          },
          "metadata": {},
          "execution_count": 12
        }
      ]
    },
    {
      "cell_type": "code",
      "source": [
        "model.wv.most_similar(positive=[\"speak\"])"
      ],
      "metadata": {
        "colab": {
          "base_uri": "https://localhost:8080/"
        },
        "id": "DNq8Ujr7RH2M",
        "outputId": "a8f51c24-2cf9-48a7-884a-d4f47934b806"
      },
      "execution_count": null,
      "outputs": [
        {
          "output_type": "execute_result",
          "data": {
            "text/plain": [
              "[('hear', 0.8253228664398193),\n",
              " ('ask', 0.806902289390564),\n",
              " ('think', 0.7974578738212585),\n",
              " ('remember', 0.7859883904457092),\n",
              " ('swear', 0.7692616581916809),\n",
              " ('read', 0.7660251259803772),\n",
              " ('talk', 0.7552900314331055),\n",
              " ('offend', 0.7504479289054871),\n",
              " ('weep', 0.7471891641616821),\n",
              " ('trust', 0.736169695854187)]"
            ]
          },
          "metadata": {},
          "execution_count": 13
        }
      ]
    },
    {
      "cell_type": "code",
      "source": [
        "model.wv.doesnt_match([\"book\", \"paper\", \"light\"])"
      ],
      "metadata": {
        "colab": {
          "base_uri": "https://localhost:8080/",
          "height": 90
        },
        "id": "WJ7jsZ1hqxed",
        "outputId": "87f2dc02-4cb8-4f04-bd3c-dca6b457be0e"
      },
      "execution_count": null,
      "outputs": [
        {
          "output_type": "stream",
          "name": "stderr",
          "text": [
            "/usr/local/lib/python3.7/dist-packages/gensim/models/keyedvectors.py:895: FutureWarning: arrays to stack must be passed as a \"sequence\" type such as list or tuple. Support for non-sequence iterables such as generators is deprecated as of NumPy 1.16 and will raise an error in the future.\n",
            "  vectors = vstack(self.word_vec(word, use_norm=True) for word in used_words).astype(REAL)\n"
          ]
        },
        {
          "output_type": "execute_result",
          "data": {
            "text/plain": [
              "'light'"
            ],
            "application/vnd.google.colaboratory.intrinsic+json": {
              "type": "string"
            }
          },
          "metadata": {},
          "execution_count": 14
        }
      ]
    },
    {
      "cell_type": "code",
      "source": [
        "model.wv.similarity(\"speak\", 'talk')"
      ],
      "metadata": {
        "colab": {
          "base_uri": "https://localhost:8080/"
        },
        "id": "NLoQyZF0q7cb",
        "outputId": "6eb3dcf6-c912-438f-a48a-6fb03c40c385"
      },
      "execution_count": null,
      "outputs": [
        {
          "output_type": "execute_result",
          "data": {
            "text/plain": [
              "0.75529003"
            ]
          },
          "metadata": {},
          "execution_count": 15
        }
      ]
    },
    {
      "cell_type": "code",
      "source": [
        "model.wv.similarity(\"speak\", 'ready')"
      ],
      "metadata": {
        "colab": {
          "base_uri": "https://localhost:8080/"
        },
        "id": "6_Z1YSL_q7f4",
        "outputId": "aa0941e0-1569-4f4a-8aeb-760544558edd"
      },
      "execution_count": null,
      "outputs": [
        {
          "output_type": "execute_result",
          "data": {
            "text/plain": [
              "0.13896327"
            ]
          },
          "metadata": {},
          "execution_count": 16
        }
      ]
    },
    {
      "cell_type": "markdown",
      "source": [
        "### All words\n",
        "\n",
        "- First we get a list of all words in the input.\n",
        "- Then we find unique words in this list.\n",
        "- We shuffle the list of unique words and then choose top 20 for plotting."
      ],
      "metadata": {
        "id": "Sed3BYARrIJI"
      }
    },
    {
      "cell_type": "code",
      "source": [
        "all_words = []\n",
        "\n",
        "for word_list in final_list:\n",
        "  for word in word_list:\n",
        "    all_words.append(word)"
      ],
      "metadata": {
        "id": "g82_PEUnU4xc"
      },
      "execution_count": null,
      "outputs": []
    },
    {
      "cell_type": "code",
      "source": [
        "unique_words = list(dict.fromkeys(all_words))"
      ],
      "metadata": {
        "id": "6E4tSC9uXRNB"
      },
      "execution_count": null,
      "outputs": []
    },
    {
      "cell_type": "code",
      "source": [
        "random.shuffle(unique_words)\n",
        "plot_words = unique_words[:20]\n",
        "plot_words"
      ],
      "metadata": {
        "colab": {
          "base_uri": "https://localhost:8080/"
        },
        "id": "n7JHapcqXsh-",
        "outputId": "e400985e-120f-4f3e-eb34-213e4ec02215"
      },
      "execution_count": null,
      "outputs": [
        {
          "output_type": "execute_result",
          "data": {
            "text/plain": [
              "['inly',\n",
              " 'upbraidings',\n",
              " 'or',\n",
              " 'calmness',\n",
              " 'storehouse',\n",
              " 'maids',\n",
              " 'rigour',\n",
              " 'dart',\n",
              " 'manifests',\n",
              " 'room',\n",
              " 'exactly',\n",
              " 'elbow',\n",
              " 'socrates',\n",
              " 'marches',\n",
              " 'procured',\n",
              " 'supportance',\n",
              " 'quart',\n",
              " 'bended',\n",
              " 'invectives',\n",
              " 'meacock']"
            ]
          },
          "metadata": {},
          "execution_count": 19
        }
      ]
    },
    {
      "cell_type": "markdown",
      "source": [
        "### Plotting words with TSNE\n",
        "\n",
        "- TSNE function modified to plot only the 20 words we choose to send to function."
      ],
      "metadata": {
        "id": "dOgIpDS5rnp6"
      }
    },
    {
      "cell_type": "code",
      "source": [
        "def tsnescatterplot(model, list_names): #word\n",
        "    \"\"\" Plot in seaborn the results from the t-SNE dimensionality reduction algorithm of the vectors of a query word,\n",
        "    its list of most similar words, and a list of words.\n",
        "    \"\"\"\n",
        "\n",
        "    word_labels = []\n",
        "    color_list = []\n",
        "\n",
        "    arrays = np.empty((0, 75), dtype='f')\n",
        "    #word_labels = [word]\n",
        "    #color_list  = ['red']\n",
        "\n",
        "    # adds the vector of the query word\n",
        "    #arrays = np.append(arrays, model.wv.__getitem__([word]), axis=0)\n",
        "    \n",
        "    # gets list of most similar words\n",
        "    #close_words = model.wv.most_similar([word])\n",
        "    \n",
        "    # adds the vector for each of the closest words to the array\n",
        "   # for wrd_score in close_words:\n",
        "    #    wrd_vector = model.wv.__getitem__([wrd_score[0]])\n",
        "     #   word_labels.append(wrd_score[0])\n",
        "      #  color_list.append('blue')\n",
        "       # arrays = np.append(arrays, wrd_vector, axis=0)\n",
        "    \n",
        "    # adds the vector for each of the words from list_names to the array\n",
        "    for wrd in list_names:\n",
        "        wrd_vector = model.wv.__getitem__([wrd])\n",
        "        word_labels.append(wrd)\n",
        "        color_list.append('green')\n",
        "        arrays = np.append(arrays, wrd_vector, axis=0)\n",
        "        \n",
        "    # Reduces the dimensionality from 300 to 50 dimensions with PCA\n",
        "    reduc = PCA(n_components=19).fit_transform(arrays)\n",
        "    \n",
        "    # Finds t-SNE coordinates for 2 dimensions\n",
        "    np.set_printoptions(suppress=True)\n",
        "    \n",
        "    Y = TSNE(n_components=2, random_state=0, perplexity=15).fit_transform(reduc)\n",
        "    \n",
        "    # Sets everything up to plot\n",
        "    df = pd.DataFrame({'x': [x for x in Y[:, 0]],\n",
        "                       'y': [y for y in Y[:, 1]],\n",
        "                       'words': word_labels,\n",
        "                       'color': color_list})\n",
        "    \n",
        "    fig, _ = plt.subplots()\n",
        "    fig.set_size_inches(9, 9)\n",
        "    \n",
        "    # Basic plot\n",
        "    p1 = sns.regplot(data=df,\n",
        "                     x=\"x\",\n",
        "                     y=\"y\",\n",
        "                     fit_reg=False,\n",
        "                     marker=\"o\",\n",
        "                     scatter_kws={'s': 40,\n",
        "                                  'facecolors': df['color']\n",
        "                                 }\n",
        "                    )\n",
        "    \n",
        "    # Adds annotations one by one with a loop\n",
        "    for line in range(0, df.shape[0]):\n",
        "         p1.text(df[\"x\"][line],\n",
        "                 df['y'][line],\n",
        "                 '  ' + df[\"words\"][line].title(),\n",
        "                 horizontalalignment='left',\n",
        "                 verticalalignment='bottom', size='medium',\n",
        "                 color=df['color'][line],\n",
        "                 weight='normal'\n",
        "                ).set_size(15)\n",
        "\n",
        "    \n",
        "    plt.xlim(Y[:, 0].min()-50, Y[:, 0].max()+50)\n",
        "    plt.ylim(Y[:, 1].min()-50, Y[:, 1].max()+50)\n",
        "            \n",
        "    plt.title('t-SNE visualization for {}'.format(word.title()))\n",
        "    "
      ],
      "metadata": {
        "id": "PGWvGCNuXcH1"
      },
      "execution_count": null,
      "outputs": []
    },
    {
      "cell_type": "code",
      "source": [
        "tsnescatterplot(model, plot_words)"
      ],
      "metadata": {
        "colab": {
          "base_uri": "https://localhost:8080/",
          "height": 636
        },
        "id": "qYAn_P02XoJX",
        "outputId": "97eda6ce-1f31-4bc2-adb9-84fbb12d07ac"
      },
      "execution_count": null,
      "outputs": [
        {
          "output_type": "stream",
          "name": "stderr",
          "text": [
            "/usr/local/lib/python3.7/dist-packages/sklearn/manifold/_t_sne.py:783: FutureWarning: The default initialization in TSNE will change from 'random' to 'pca' in 1.2.\n",
            "  FutureWarning,\n",
            "/usr/local/lib/python3.7/dist-packages/sklearn/manifold/_t_sne.py:793: FutureWarning: The default learning rate in TSNE will change from 200.0 to 'auto' in 1.2.\n",
            "  FutureWarning,\n"
          ]
        },
        {
          "output_type": "display_data",
          "data": {
            "text/plain": [
              "<Figure size 648x648 with 1 Axes>"
            ],
            "image/png": "[encoded data removed]"
          },
          "metadata": {}
        }
      ]
    }
  ]
}